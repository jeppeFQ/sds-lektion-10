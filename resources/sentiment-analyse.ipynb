{
 "cells": [
  {
   "cell_type": "markdown",
   "metadata": {},
   "source": [
    "# Sentiment analyse i Python"
   ]
  },
  {
   "cell_type": "markdown",
   "metadata": {},
   "source": [
    "## Sentiment analyse med `asent` i Python\n",
    "\n",
    "I denne notebook vises, hvordan man kan udføre sentiment analyse i Python.\n",
    "\n",
    "Der bruges pakken [`asent`](https://kennethenevoldsen.github.io/asent/installation.html), som virker sammen med `spaCy` til at udføre sentiment analyse.\n",
    "\n",
    "\n",
    "## Hvad er asent?\n",
    "\n",
    "`asent` er en regel-baseret sentiment model, der bygger på en dictionary af ord, som er kategoriseret som hhv. positive og negative ord. Ordene er samtidig givet en polaritetsscore for, hvor positive og negative de er.\n",
    "\n",
    "Modellen virker ved, at den sammenholder ord i et stykke tekst med ordene i dictionary og giver tekststykket en samlet polaritetsscore for, hvor positivt eller negativt det er.\n",
    "\n",
    "\n",
    "### Lexicon\n",
    "\n",
    "Da `asent` er en dictionary-model, skal den bruge en oversigt over ord samt deres tilknyttede score (kaldes ofte \"lexicon\"). De lexicons, som asent bruger, kan findes på pakkens github-repository: [https://github.com/KennethEnevoldsen/asent/tree/main/src/asent/lexicons](https://github.com/KennethEnevoldsen/asent/tree/main/src/asent/lexicons).\n",
    "\n",
    "*Bemærk:* `asent` genbruger lexicons fra andre sentiment modeller ([afinn](https://github.com/fnielsen/afinn) og [sentida](https://github.com/Guscode/Sentida)).\n",
    "\n",
    "\n",
    "### asent i kombination med `spaCy` \n",
    "\n",
    "`asent` virker i kombination med en `spaCy` sprogmodel/pipeline. På den måde kan modellen tage højde for sætningskonstruktion og negationer (fx \"ikke glad\") for at udregne mere præcise polaritetsscores.\n",
    "\n",
    "`spaCy` modeller er altid et *pipeline*:\n",
    "\n",
    "![pipeline](https://spacy.io/images/pipeline-design.svg)\n",
    "\n",
    "Det betyder, at når et stykke tekst behandles med `spaCy` (fx `doc = nlp(text)`), så tages tekststykket igennem flere processer (tokenizer, part-of-speech tagger, dependency parser osv.) - ligesom et samlebånd på en fabrik. \n",
    "\n",
    "Man kan altid tilføje flere led i et `spaCy` pipeline - altså endnu en ting, som teksten skal igennem på samlebåndet. Det er den måde, som man bruger `asent`, da den skal bruge information tidligere i pipelinet for at udføre sentiment analysen af teksten. \n",
    "\n",
    "Resultatet af sentiment analysen for tekststykket tilgås som attributes for doc-objektet (som man ellers tilgår attributes fra et `spaCy` doc-objekt).\n",
    "\n",
    "\n",
    "## Dictionary modeller vs. trænede modeller (neurale netværk, transformers etc.)\n",
    "\n",
    "Dictionary modeller (herunder modeller til sentiment analyse) er efterhånden overgået af præ-trænede maskinlæringsmodeller baseret på transformers eller anden neural netværksarkitektur. Fordelene ved en dictionary model er dog, at det altid er fuldstændig gennemskueligt, hvorfor modellen har analyseret teksten, som den har. Præ-trænede modeller er efterhånden mere nøjagtige, men det er meget vanskeligere for os at spørge modellen, hvorfor den har nået frem til et specifikt resultat (\"black-box\")."
   ]
  },
  {
   "cell_type": "markdown",
   "metadata": {},
   "source": [
    "## Brug af `asent`\n",
    "\n",
    "I det følgende vises, hvordan `asent` bruges på dansk på enkelte tekststykker:"
   ]
  },
  {
   "cell_type": "code",
   "execution_count": 6,
   "metadata": {},
   "outputs": [
    {
     "name": "stdout",
     "output_type": "stream",
     "text": [
      "Collecting da-core-news-lg==3.8.0\n",
      "  Downloading https://github.com/explosion/spacy-models/releases/download/da_core_news_lg-3.8.0/da_core_news_lg-3.8.0-py3-none-any.whl (567.1 MB)\n",
      "\u001b[2K     \u001b[38;2;114;156;31m━━━━━━━━━━━━━━━━━━━━━━━━━━━━━━━━━━━━━━━\u001b[0m \u001b[32m567.1/567.1 MB\u001b[0m \u001b[31m3.4 MB/s\u001b[0m eta \u001b[36m0:00:00\u001b[0mm eta \u001b[36m0:00:01\u001b[0m[36m0:00:01\u001b[0m\n",
      "\u001b[?25hInstalling collected packages: da-core-news-lg\n",
      "Successfully installed da-core-news-lg-3.8.0\n",
      "\u001b[38;5;2m✔ Download and installation successful\u001b[0m\n",
      "You can now load the package via spacy.load('da_core_news_lg')\n"
     ]
    }
   ],
   "source": [
    "!python -m spacy download da_core_news_lg"
   ]
  },
  {
   "cell_type": "code",
   "execution_count": 1,
   "metadata": {},
   "outputs": [
    {
     "data": {
      "text/plain": [
       "<asent.component.Asent at 0x160ad9b80>"
      ]
     },
     "execution_count": null,
     "metadata": {},
     "output_type": "execute_result"
    }
   ],
   "source": [
    "# indlæser pakker\n",
    "import spacy\n",
    "import asent\n",
    "import pandas as pd\n",
    "import matplotlib.pyplot as plt\n",
    "import seaborn as sns\n",
    "import numpy as np\n",
    "from IPython.display import display, HTML\n",
    "\n",
    "#python -m spacy download da_core_news_lg\n",
    "\n",
    "# indlæs spacy sprogmodel og pipeline\n",
    "nlp = spacy.load('da_core_news_lg') # sprogmodel skal være hentet inden, at den kan indlæses\n",
    "\n",
    "# tilføj sentiment model til pipeline\n",
    "nlp.add_pipe('asent_da_v1')"
   ]
  },
  {
   "cell_type": "markdown",
   "metadata": {},
   "source": [
    "`asent` er nu en del af et `spaCy` pipeline (lagret i `nlp`). Vi er nu klar til at analysere et stykke tekst:"
   ]
  },
  {
   "cell_type": "code",
   "execution_count": 2,
   "metadata": {},
   "outputs": [],
   "source": [
    "text = \"Jeg kan lide grøn peber på varm leverpostej\"\n",
    "\n",
    "doc = nlp(text)"
   ]
  },
  {
   "cell_type": "code",
   "execution_count": null,
   "metadata": {},
   "outputs": [],
   "source": [
    "all_sentences = list(doc.sents)\n",
    "print(all_sentences[0])"
   ]
  },
  {
   "cell_type": "markdown",
   "metadata": {},
   "source": [
    "Blot at køre teksten gennem pipeline giver ikke noget output, men alle de dele, som er blevet anlayseret og tilføjet teksten på samlebåndet (pipeline), kan nu tilgås i doc-objektet.\n",
    "\n",
    "`asent` giver ikke blot én samlet score for hele teksten, men analyserer i stedet sætninger:"
   ]
  },
  {
   "cell_type": "code",
   "execution_count": 3,
   "metadata": {},
   "outputs": [
    {
     "name": "stdout",
     "output_type": "stream",
     "text": [
      "\n",
      "Tekst: Jeg kan lide grøn peber på varm leverpostej\n",
      "Sentiment: neg=0.0 neu=0.6 pos=0.4 compound=0.4588 span=Jeg kan lide grøn peber på varm leverpostej\n"
     ]
    }
   ],
   "source": [
    "for sentence in doc.sents:\n",
    "    print(f\"\\nTekst: {sentence}\")\n",
    "    print(f\"Sentiment: {sentence._.polarity}\")"
   ]
  },
  {
   "cell_type": "markdown",
   "metadata": {},
   "source": [
    "`.sents` er en generator, der giver adgang til alle sætninger i teksten; spaCy's tokenizer opdeler automatisk teksten i sætninger baseret på tegnsætning. Loopet itererer derfor gennem én sætning ad gangen.\n",
    "\n",
    "Fordi `.sents` er en generator kan vi ikke bruge `doc.sents` eller `print(doc.sents)` direkte. Vi skal først konvertere til en liste `list(doc.sents)[0]` (som i koden tidligere). \n",
    "\n",
    "`sentence._` giver adgang til **custom attributes** (tilføjet af asent). `._.` indikerer at det er en custom/user extension (ikke built-in spaCy), `.polarity` er sentiment scoren, som asent har beregnet for denne specifikke sætning\n",
    "\n",
    "\n"
   ]
  },
  {
   "cell_type": "markdown",
   "metadata": {},
   "source": [
    "`asent` tildeler både en score for hhv. negativ (`neg`), neutralt (`neu`) og positivt (`pos`). Derudover gives et samlet mål for polaritet (`compound`). Alle scores er normaliseret og rangerer fra -1 til 1. En `compound` score over 0 indikerer derfor overvejende positiv sætning, og under 0 en overvejende negativ sætning.\n",
    "\n",
    "Denne sætning vurderes overvejende positivt (0.4588). \n",
    "\n",
    "### Polaritet på token-niveau\n",
    "\n",
    "Vi kan inspicere resultatet yderligere ved at se, hvordan de enkelte ord/tokens er vurderet:"
   ]
  },
  {
   "cell_type": "code",
   "execution_count": 9,
   "metadata": {},
   "outputs": [
    {
     "name": "stdout",
     "output_type": "stream",
     "text": [
      "\n",
      "Ord-niveau analyse:\n",
      "lide            - Polarity: polarity=1.0 token=lide span=lide, Valence: 1.0\n",
      "varm            - Polarity: polarity=1.0 token=varm span=varm, Valence: 1.0\n"
     ]
    }
   ],
   "source": [
    "print(\"\\nOrd-niveau analyse:\")\n",
    "for token in doc:\n",
    "    if token._.polarity and token._.polarity != 0:\n",
    "        print(f\"{token.text:15} - Polarity: {token._.polarity}, Valence: {token._.valence}\")\n"
   ]
  },
  {
   "cell_type": "markdown",
   "metadata": {},
   "source": [
    "Her ses at ordene \"lide\" og \"varm\" vurderes positive (polarity > 0).\n",
    "\n",
    "`polarity` scores er ikke normaliseret, men er omregninger af de oprindelige tildelte værdier for ordene. De oprindelige tildelte værdier omtales deres \"valence\" og kan ligeledes tilgås:"
   ]
  },
  {
   "cell_type": "code",
   "execution_count": 10,
   "metadata": {},
   "outputs": [
    {
     "name": "stdout",
     "output_type": "stream",
     "text": [
      "Jeg \t 0.0\n",
      "kan \t 0.0\n",
      "lide \t 1.0\n",
      "grøn \t 0.0\n",
      "peber \t 0.0\n",
      "på \t 0.0\n",
      "varm \t 1.0\n",
      "leverpostej \t 0.0\n"
     ]
    }
   ],
   "source": [
    "for token in doc:\n",
    "    print(token, \"\\t\", token._.valence)"
   ]
  },
  {
   "cell_type": "markdown",
   "metadata": {},
   "source": [
    "Her er der ingen forskel mellem valence og polarity for ordene. Dette fordi at sætningskonstruktionen ikke lægger op til, at ordene skal vægtes anderledes (se andet eksempel længere nede)."
   ]
  },
  {
   "cell_type": "markdown",
   "metadata": {},
   "source": [
    "### Visualisering af udregning\n",
    "\n",
    "`asent` indeholder også visualiseringsfunktioner til at inspicere sentiment analysen:"
   ]
  },
  {
   "cell_type": "code",
   "execution_count": 11,
   "metadata": {},
   "outputs": [
    {
     "data": {
      "text/html": [
       "<div class=\"spans\" style=\"line-height: 2.5; direction: ltr\">Jeg kan \n",
       "<span style=\"font-weight: bold; display: inline-block; position: relative; height: 60px;\">\n",
       "    lide\n",
       "    \n",
       "<span style=\"background: #d9ef8b; top: 40px; height: 4px; left: -1px; width: calc(100% + 2px); position: absolute;\">\n",
       "</span>\n",
       "\n",
       "    \n",
       "<span style=\"background: #d9ef8b; top: 40px; height: 4px; border-top-left-radius: 3px; border-bottom-left-radius: 3px; left: -1px; width: calc(100% + 2px); position: absolute;\">\n",
       "    <span style=\"background: #d9ef8b; z-index: 10; color: #000; top: -0.5em; padding: 2px 3px; position: absolute; font-size: 0.6em; font-weight: bold; line-height: 1; border-radius: 3px\">\n",
       "        1.0\n",
       "    </span>\n",
       "</span>\n",
       "\n",
       "\n",
       "</span>\n",
       "grøn peber på \n",
       "<span style=\"font-weight: bold; display: inline-block; position: relative; height: 60px;\">\n",
       "    varm\n",
       "    \n",
       "<span style=\"background: #d9ef8b; top: 40px; height: 4px; left: -1px; width: calc(100% + 2px); position: absolute;\">\n",
       "</span>\n",
       "\n",
       "    \n",
       "<span style=\"background: #d9ef8b; top: 40px; height: 4px; border-top-left-radius: 3px; border-bottom-left-radius: 3px; left: -1px; width: calc(100% + 2px); position: absolute;\">\n",
       "    <span style=\"background: #d9ef8b; z-index: 10; color: #000; top: -0.5em; padding: 2px 3px; position: absolute; font-size: 0.6em; font-weight: bold; line-height: 1; border-radius: 3px\">\n",
       "        1.0\n",
       "    </span>\n",
       "</span>\n",
       "\n",
       "\n",
       "</span>\n",
       "leverpostej </div>"
      ],
      "text/plain": [
       "<IPython.core.display.HTML object>"
      ]
     },
     "metadata": {},
     "output_type": "display_data"
    }
   ],
   "source": [
    "display(HTML(asent.visualize(doc, style=\"prediction\")))"
   ]
  },
  {
   "cell_type": "code",
   "execution_count": 12,
   "metadata": {},
   "outputs": [
    {
     "data": {
      "text/html": [
       "<svg xmlns=\"http://www.w3.org/2000/svg\" xmlns:xlink=\"http://www.w3.org/1999/xlink\" xml:lang=\"en\" id=\"7f4d8e9159614d5c9ccbb0d7afec5415-0\" class=\"displacy\" width=\"1450\" height=\"137.0\" direction=\"ltr\" style=\"max-width: none; height: 137.0px; color: #000000; background: #ffffff; font-family: Arial; direction: ltr\">\n",
       "<text class=\"displacy-token\" fill=\"currentColor\" text-anchor=\"middle\" y=\"47.0\">\n",
       "    <tspan class=\"displacy-word\" fill=\"currentColor\" x=\"50\">Jeg</tspan>\n",
       "    <tspan class=\"displacy-tag\" dy=\"2em\" fill=\"currentColor\" x=\"50\">0.0</tspan>\n",
       "</text>\n",
       "\n",
       "<text class=\"displacy-token\" fill=\"currentColor\" text-anchor=\"middle\" y=\"47.0\">\n",
       "    <tspan class=\"displacy-word\" fill=\"currentColor\" x=\"225\">kan</tspan>\n",
       "    <tspan class=\"displacy-tag\" dy=\"2em\" fill=\"currentColor\" x=\"225\">0.0</tspan>\n",
       "</text>\n",
       "\n",
       "<text class=\"displacy-token\" fill=\"currentColor\" text-anchor=\"middle\" y=\"47.0\">\n",
       "    <tspan class=\"displacy-word\" fill=\"currentColor\" x=\"400\">lide</tspan>\n",
       "    <tspan class=\"displacy-tag\" dy=\"2em\" fill=\"currentColor\" x=\"400\">1.0 (1.0)</tspan>\n",
       "</text>\n",
       "\n",
       "<text class=\"displacy-token\" fill=\"currentColor\" text-anchor=\"middle\" y=\"47.0\">\n",
       "    <tspan class=\"displacy-word\" fill=\"currentColor\" x=\"575\">grøn</tspan>\n",
       "    <tspan class=\"displacy-tag\" dy=\"2em\" fill=\"currentColor\" x=\"575\">0.0</tspan>\n",
       "</text>\n",
       "\n",
       "<text class=\"displacy-token\" fill=\"currentColor\" text-anchor=\"middle\" y=\"47.0\">\n",
       "    <tspan class=\"displacy-word\" fill=\"currentColor\" x=\"750\">peber</tspan>\n",
       "    <tspan class=\"displacy-tag\" dy=\"2em\" fill=\"currentColor\" x=\"750\">0.0</tspan>\n",
       "</text>\n",
       "\n",
       "<text class=\"displacy-token\" fill=\"currentColor\" text-anchor=\"middle\" y=\"47.0\">\n",
       "    <tspan class=\"displacy-word\" fill=\"currentColor\" x=\"925\">på</tspan>\n",
       "    <tspan class=\"displacy-tag\" dy=\"2em\" fill=\"currentColor\" x=\"925\">0.0</tspan>\n",
       "</text>\n",
       "\n",
       "<text class=\"displacy-token\" fill=\"currentColor\" text-anchor=\"middle\" y=\"47.0\">\n",
       "    <tspan class=\"displacy-word\" fill=\"currentColor\" x=\"1100\">varm</tspan>\n",
       "    <tspan class=\"displacy-tag\" dy=\"2em\" fill=\"currentColor\" x=\"1100\">1.0 (1.0)</tspan>\n",
       "</text>\n",
       "\n",
       "<text class=\"displacy-token\" fill=\"currentColor\" text-anchor=\"middle\" y=\"47.0\">\n",
       "    <tspan class=\"displacy-word\" fill=\"currentColor\" x=\"1275\">leverpostej</tspan>\n",
       "    <tspan class=\"displacy-tag\" dy=\"2em\" fill=\"currentColor\" x=\"1275\">0.0</tspan>\n",
       "</text>\n",
       "</svg>"
      ],
      "text/plain": [
       "<IPython.core.display.HTML object>"
      ]
     },
     "metadata": {},
     "output_type": "display_data"
    }
   ],
   "source": [
    "display(HTML(asent.visualize(doc, style=\"analysis\")))"
   ]
  },
  {
   "cell_type": "markdown",
   "metadata": {},
   "source": [
    "### Negation og tekster med flere udtryk\n",
    "\n",
    "Da `asent` benytter `spaCy` pipeline, kan den tage højde for sætningskonstruktion. I det nedenstående bruges `asent` på en sætning med negation og flere udtryk:"
   ]
  },
  {
   "cell_type": "code",
   "execution_count": 13,
   "metadata": {},
   "outputs": [],
   "source": [
    "text = \"Jeg kan ikke lide grøn peber på varm leverpostej. Jeg kan bedre lide rød peber.\"\n",
    "\n",
    "doc = nlp(text)"
   ]
  },
  {
   "cell_type": "code",
   "execution_count": 14,
   "metadata": {},
   "outputs": [
    {
     "data": {
      "text/html": [
       "<div class=\"spans\" style=\"line-height: 2.5; direction: ltr\">Jeg kan \n",
       "<span style=\"font-weight: bold; display: inline-block; position: relative; height: 60px;\">\n",
       "    ikke\n",
       "    \n",
       "<span style=\"background: #fee99b; top: 40px; height: 4px; left: -1px; width: calc(100% + 2px); position: absolute;\">\n",
       "</span>\n",
       "\n",
       "    \n",
       "<span style=\"background: #fee99b; top: 40px; height: 4px; border-top-left-radius: 3px; border-bottom-left-radius: 3px; left: -1px; width: calc(100% + 2px); position: absolute;\">\n",
       "    <span style=\"background: #fee99b; z-index: 10; color: #000; top: -0.5em; padding: 2px 3px; position: absolute; font-size: 0.6em; font-weight: bold; line-height: 1; border-radius: 3px\">\n",
       "        -0.7\n",
       "    </span>\n",
       "</span>\n",
       "\n",
       "\n",
       "</span>\n",
       "\n",
       "<span style=\"font-weight: bold; display: inline-block; position: relative; height: 60px;\">\n",
       "    lide\n",
       "    \n",
       "<span style=\"background: #fee99b; top: 40px; height: 4px; left: -1px; width: calc(100% + 2px); position: absolute;\">\n",
       "</span>\n",
       "\n",
       "    \n",
       "</span>\n",
       "grøn peber på \n",
       "<span style=\"font-weight: bold; display: inline-block; position: relative; height: 60px;\">\n",
       "    varm\n",
       "    \n",
       "<span style=\"background: #d9ef8b; top: 40px; height: 4px; left: -1px; width: calc(100% + 2px); position: absolute;\">\n",
       "</span>\n",
       "\n",
       "    \n",
       "<span style=\"background: #d9ef8b; top: 40px; height: 4px; border-top-left-radius: 3px; border-bottom-left-radius: 3px; left: -1px; width: calc(100% + 2px); position: absolute;\">\n",
       "    <span style=\"background: #d9ef8b; z-index: 10; color: #000; top: -0.5em; padding: 2px 3px; position: absolute; font-size: 0.6em; font-weight: bold; line-height: 1; border-radius: 3px\">\n",
       "        1.0\n",
       "    </span>\n",
       "</span>\n",
       "\n",
       "\n",
       "</span>\n",
       "leverpostej . Jeg kan \n",
       "<span style=\"font-weight: bold; display: inline-block; position: relative; height: 60px;\">\n",
       "    bedre\n",
       "    \n",
       "<span style=\"background: #a6d96a; top: 40px; height: 4px; left: -1px; width: calc(100% + 2px); position: absolute;\">\n",
       "</span>\n",
       "\n",
       "    \n",
       "<span style=\"background: #a6d96a; top: 40px; height: 4px; border-top-left-radius: 3px; border-bottom-left-radius: 3px; left: -1px; width: calc(100% + 2px); position: absolute;\">\n",
       "    <span style=\"background: #a6d96a; z-index: 10; color: #000; top: -0.5em; padding: 2px 3px; position: absolute; font-size: 0.6em; font-weight: bold; line-height: 1; border-radius: 3px\">\n",
       "        2.0\n",
       "    </span>\n",
       "</span>\n",
       "\n",
       "\n",
       "</span>\n",
       "\n",
       "<span style=\"font-weight: bold; display: inline-block; position: relative; height: 60px;\">\n",
       "    lide\n",
       "    \n",
       "<span style=\"background: #d9ef8b; top: 40px; height: 4px; left: -1px; width: calc(100% + 2px); position: absolute;\">\n",
       "</span>\n",
       "\n",
       "    \n",
       "<span style=\"background: #d9ef8b; top: 40px; height: 4px; border-top-left-radius: 3px; border-bottom-left-radius: 3px; left: -1px; width: calc(100% + 2px); position: absolute;\">\n",
       "    <span style=\"background: #d9ef8b; z-index: 10; color: #000; top: -0.5em; padding: 2px 3px; position: absolute; font-size: 0.6em; font-weight: bold; line-height: 1; border-radius: 3px\">\n",
       "        1.0\n",
       "    </span>\n",
       "</span>\n",
       "\n",
       "\n",
       "</span>\n",
       "rød peber . </div>"
      ],
      "text/plain": [
       "<IPython.core.display.HTML object>"
      ]
     },
     "metadata": {},
     "output_type": "display_data"
    }
   ],
   "source": [
    "display(HTML(asent.visualize(doc, style=\"prediction\")))"
   ]
  },
  {
   "cell_type": "markdown",
   "metadata": {},
   "source": [
    "Her ses hvordan `asent` behandler ordet \"lide\" forskelligt alt efter kontekst. Da det negeres i første sætning, tildeles det en negativ polaritet."
   ]
  },
  {
   "cell_type": "code",
   "execution_count": 15,
   "metadata": {},
   "outputs": [
    {
     "data": {
      "text/html": [
       "<svg xmlns=\"http://www.w3.org/2000/svg\" xmlns:xlink=\"http://www.w3.org/1999/xlink\" xml:lang=\"en\" id=\"932d4a7a39f04a3784025751eaf5dd3b-0\" class=\"displacy\" width=\"3025\" height=\"224.5\" direction=\"ltr\" style=\"max-width: none; height: 224.5px; color: #000000; background: #ffffff; font-family: Arial; direction: ltr\">\n",
       "<text class=\"displacy-token\" fill=\"currentColor\" text-anchor=\"middle\" y=\"134.5\">\n",
       "    <tspan class=\"displacy-word\" fill=\"currentColor\" x=\"50\">Jeg</tspan>\n",
       "    <tspan class=\"displacy-tag\" dy=\"2em\" fill=\"currentColor\" x=\"50\">0.0</tspan>\n",
       "</text>\n",
       "\n",
       "<text class=\"displacy-token\" fill=\"currentColor\" text-anchor=\"middle\" y=\"134.5\">\n",
       "    <tspan class=\"displacy-word\" fill=\"currentColor\" x=\"225\">kan</tspan>\n",
       "    <tspan class=\"displacy-tag\" dy=\"2em\" fill=\"currentColor\" x=\"225\">0.0</tspan>\n",
       "</text>\n",
       "\n",
       "<text class=\"displacy-token\" fill=\"currentColor\" text-anchor=\"middle\" y=\"134.5\">\n",
       "    <tspan class=\"displacy-word\" fill=\"currentColor\" x=\"400\">ikke</tspan>\n",
       "    <tspan class=\"displacy-tag\" dy=\"2em\" fill=\"currentColor\" x=\"400\">0.0</tspan>\n",
       "</text>\n",
       "\n",
       "<text class=\"displacy-token\" fill=\"currentColor\" text-anchor=\"middle\" y=\"134.5\">\n",
       "    <tspan class=\"displacy-word\" fill=\"currentColor\" x=\"575\">lide</tspan>\n",
       "    <tspan class=\"displacy-tag\" dy=\"2em\" fill=\"currentColor\" x=\"575\">-0.7 (1.0)</tspan>\n",
       "</text>\n",
       "\n",
       "<text class=\"displacy-token\" fill=\"currentColor\" text-anchor=\"middle\" y=\"134.5\">\n",
       "    <tspan class=\"displacy-word\" fill=\"currentColor\" x=\"750\">grøn</tspan>\n",
       "    <tspan class=\"displacy-tag\" dy=\"2em\" fill=\"currentColor\" x=\"750\">0.0</tspan>\n",
       "</text>\n",
       "\n",
       "<text class=\"displacy-token\" fill=\"currentColor\" text-anchor=\"middle\" y=\"134.5\">\n",
       "    <tspan class=\"displacy-word\" fill=\"currentColor\" x=\"925\">peber</tspan>\n",
       "    <tspan class=\"displacy-tag\" dy=\"2em\" fill=\"currentColor\" x=\"925\">0.0</tspan>\n",
       "</text>\n",
       "\n",
       "<text class=\"displacy-token\" fill=\"currentColor\" text-anchor=\"middle\" y=\"134.5\">\n",
       "    <tspan class=\"displacy-word\" fill=\"currentColor\" x=\"1100\">på</tspan>\n",
       "    <tspan class=\"displacy-tag\" dy=\"2em\" fill=\"currentColor\" x=\"1100\">0.0</tspan>\n",
       "</text>\n",
       "\n",
       "<text class=\"displacy-token\" fill=\"currentColor\" text-anchor=\"middle\" y=\"134.5\">\n",
       "    <tspan class=\"displacy-word\" fill=\"currentColor\" x=\"1275\">varm</tspan>\n",
       "    <tspan class=\"displacy-tag\" dy=\"2em\" fill=\"currentColor\" x=\"1275\">1.0 (1.0)</tspan>\n",
       "</text>\n",
       "\n",
       "<text class=\"displacy-token\" fill=\"currentColor\" text-anchor=\"middle\" y=\"134.5\">\n",
       "    <tspan class=\"displacy-word\" fill=\"currentColor\" x=\"1450\">leverpostej</tspan>\n",
       "    <tspan class=\"displacy-tag\" dy=\"2em\" fill=\"currentColor\" x=\"1450\">0.0</tspan>\n",
       "</text>\n",
       "\n",
       "<text class=\"displacy-token\" fill=\"currentColor\" text-anchor=\"middle\" y=\"134.5\">\n",
       "    <tspan class=\"displacy-word\" fill=\"currentColor\" x=\"1625\">.</tspan>\n",
       "    <tspan class=\"displacy-tag\" dy=\"2em\" fill=\"currentColor\" x=\"1625\">0.0</tspan>\n",
       "</text>\n",
       "\n",
       "<text class=\"displacy-token\" fill=\"currentColor\" text-anchor=\"middle\" y=\"134.5\">\n",
       "    <tspan class=\"displacy-word\" fill=\"currentColor\" x=\"1800\">Jeg</tspan>\n",
       "    <tspan class=\"displacy-tag\" dy=\"2em\" fill=\"currentColor\" x=\"1800\">0.0</tspan>\n",
       "</text>\n",
       "\n",
       "<text class=\"displacy-token\" fill=\"currentColor\" text-anchor=\"middle\" y=\"134.5\">\n",
       "    <tspan class=\"displacy-word\" fill=\"currentColor\" x=\"1975\">kan</tspan>\n",
       "    <tspan class=\"displacy-tag\" dy=\"2em\" fill=\"currentColor\" x=\"1975\">0.0</tspan>\n",
       "</text>\n",
       "\n",
       "<text class=\"displacy-token\" fill=\"currentColor\" text-anchor=\"middle\" y=\"134.5\">\n",
       "    <tspan class=\"displacy-word\" fill=\"currentColor\" x=\"2150\">bedre</tspan>\n",
       "    <tspan class=\"displacy-tag\" dy=\"2em\" fill=\"currentColor\" x=\"2150\">2.0 (2.0)</tspan>\n",
       "</text>\n",
       "\n",
       "<text class=\"displacy-token\" fill=\"currentColor\" text-anchor=\"middle\" y=\"134.5\">\n",
       "    <tspan class=\"displacy-word\" fill=\"currentColor\" x=\"2325\">lide</tspan>\n",
       "    <tspan class=\"displacy-tag\" dy=\"2em\" fill=\"currentColor\" x=\"2325\">1.0 (1.0)</tspan>\n",
       "</text>\n",
       "\n",
       "<text class=\"displacy-token\" fill=\"currentColor\" text-anchor=\"middle\" y=\"134.5\">\n",
       "    <tspan class=\"displacy-word\" fill=\"currentColor\" x=\"2500\">rød</tspan>\n",
       "    <tspan class=\"displacy-tag\" dy=\"2em\" fill=\"currentColor\" x=\"2500\">0.0</tspan>\n",
       "</text>\n",
       "\n",
       "<text class=\"displacy-token\" fill=\"currentColor\" text-anchor=\"middle\" y=\"134.5\">\n",
       "    <tspan class=\"displacy-word\" fill=\"currentColor\" x=\"2675\">peber</tspan>\n",
       "    <tspan class=\"displacy-tag\" dy=\"2em\" fill=\"currentColor\" x=\"2675\">0.0</tspan>\n",
       "</text>\n",
       "\n",
       "<text class=\"displacy-token\" fill=\"currentColor\" text-anchor=\"middle\" y=\"134.5\">\n",
       "    <tspan class=\"displacy-word\" fill=\"currentColor\" x=\"2850\">.</tspan>\n",
       "    <tspan class=\"displacy-tag\" dy=\"2em\" fill=\"currentColor\" x=\"2850\">0.0</tspan>\n",
       "</text>\n",
       "\n",
       "<g class=\"displacy-arrow\">\n",
       "    <path class=\"displacy-arc\" id=\"arrow-932d4a7a39f04a3784025751eaf5dd3b-0-0\" stroke-width=\"2px\" d=\"M420,89.5 C420,2.0 575.0,2.0 575.0,89.5\" fill=\"none\" stroke=\"currentColor\"/>\n",
       "    <text dy=\"1.25em\" style=\"font-size: 0.8em; letter-spacing: 1px\">\n",
       "        <textPath xlink:href=\"#arrow-932d4a7a39f04a3784025751eaf5dd3b-0-0\" class=\"displacy-label\" startOffset=\"50%\" side=\"left\" fill=\"currentColor\" text-anchor=\"middle\">negated by</textPath>\n",
       "    </text>\n",
       "    <path class=\"displacy-arrowhead\" d=\"M420,91.5 L412,79.5 428,79.5\" fill=\"currentColor\"/>\n",
       "</g>\n",
       "</svg>"
      ],
      "text/plain": [
       "<IPython.core.display.HTML object>"
      ]
     },
     "metadata": {},
     "output_type": "display_data"
    }
   ],
   "source": [
    "display(HTML(asent.visualize(doc, style=\"analysis\")))"
   ]
  },
  {
   "cell_type": "code",
   "execution_count": 16,
   "metadata": {},
   "outputs": [
    {
     "data": {
      "text/html": [
       "<svg xmlns=\"http://www.w3.org/2000/svg\" xmlns:xlink=\"http://www.w3.org/1999/xlink\" xml:lang=\"en\" id=\"033b10cb42cf4136a7f8956e54a3379e-0\" class=\"displacy\" width=\"1275\" height=\"137.0\" direction=\"ltr\" style=\"max-width: none; height: 137.0px; color: #000000; background: #ffffff; font-family: Arial; direction: ltr\">\n",
       "<text class=\"displacy-token\" fill=\"currentColor\" text-anchor=\"middle\" y=\"47.0\">\n",
       "    <tspan class=\"displacy-word\" fill=\"currentColor\" x=\"50\">Jeg</tspan>\n",
       "    <tspan class=\"displacy-tag\" dy=\"2em\" fill=\"currentColor\" x=\"50\">0.0</tspan>\n",
       "</text>\n",
       "\n",
       "<text class=\"displacy-token\" fill=\"currentColor\" text-anchor=\"middle\" y=\"47.0\">\n",
       "    <tspan class=\"displacy-word\" fill=\"currentColor\" x=\"225\">kan</tspan>\n",
       "    <tspan class=\"displacy-tag\" dy=\"2em\" fill=\"currentColor\" x=\"225\">0.0</tspan>\n",
       "</text>\n",
       "\n",
       "<text class=\"displacy-token\" fill=\"currentColor\" text-anchor=\"middle\" y=\"47.0\">\n",
       "    <tspan class=\"displacy-word\" fill=\"currentColor\" x=\"400\">bedre</tspan>\n",
       "    <tspan class=\"displacy-tag\" dy=\"2em\" fill=\"currentColor\" x=\"400\">2.0 (2.0)</tspan>\n",
       "</text>\n",
       "\n",
       "<text class=\"displacy-token\" fill=\"currentColor\" text-anchor=\"middle\" y=\"47.0\">\n",
       "    <tspan class=\"displacy-word\" fill=\"currentColor\" x=\"575\">lide</tspan>\n",
       "    <tspan class=\"displacy-tag\" dy=\"2em\" fill=\"currentColor\" x=\"575\">1.0 (1.0)</tspan>\n",
       "</text>\n",
       "\n",
       "<text class=\"displacy-token\" fill=\"currentColor\" text-anchor=\"middle\" y=\"47.0\">\n",
       "    <tspan class=\"displacy-word\" fill=\"currentColor\" x=\"750\">rød</tspan>\n",
       "    <tspan class=\"displacy-tag\" dy=\"2em\" fill=\"currentColor\" x=\"750\">0.0</tspan>\n",
       "</text>\n",
       "\n",
       "<text class=\"displacy-token\" fill=\"currentColor\" text-anchor=\"middle\" y=\"47.0\">\n",
       "    <tspan class=\"displacy-word\" fill=\"currentColor\" x=\"925\">peber</tspan>\n",
       "    <tspan class=\"displacy-tag\" dy=\"2em\" fill=\"currentColor\" x=\"925\">0.0</tspan>\n",
       "</text>\n",
       "\n",
       "<text class=\"displacy-token\" fill=\"currentColor\" text-anchor=\"middle\" y=\"47.0\">\n",
       "    <tspan class=\"displacy-word\" fill=\"currentColor\" x=\"1100\">.</tspan>\n",
       "    <tspan class=\"displacy-tag\" dy=\"2em\" fill=\"currentColor\" x=\"1100\">0.0</tspan>\n",
       "</text>\n",
       "</svg>"
      ],
      "text/plain": [
       "<IPython.core.display.HTML object>"
      ]
     },
     "metadata": {},
     "output_type": "display_data"
    }
   ],
   "source": [
    "display(HTML(asent.visualize(doc[10:], style=\"analysis\")))"
   ]
  },
  {
   "cell_type": "code",
   "execution_count": 17,
   "metadata": {},
   "outputs": [
    {
     "name": "stdout",
     "output_type": "stream",
     "text": [
      "neg=0.148 neu=0.681 pos=0.17 compound=0.067 span=Jeg kan ikke lide grøn peber på varm leverpostej.\n",
      "neg=0.0 neu=0.5 pos=0.5 compound=0.6124 span=Jeg kan bedre lide rød peber.\n"
     ]
    }
   ],
   "source": [
    "for sentence in doc.sents:\n",
    "    print(sentence._.polarity)"
   ]
  },
  {
   "cell_type": "markdown",
   "metadata": {},
   "source": [
    "# Med pandas dataframe"
   ]
  },
  {
   "cell_type": "code",
   "execution_count": 18,
   "metadata": {},
   "outputs": [],
   "source": [
    "df = pd.read_csv('/Users/jeppefl/Library/CloudStorage/OneDrive-AalborgUniversitet/01_work/01_undervisning/02_sds1/03_data/spam.csv', encoding='cp1252')\n",
    "\n",
    "df = df[['v1', 'v2']].copy()\n",
    "df.columns = ['label', 'message']\n",
    "df = df.dropna()"
   ]
  },
  {
   "cell_type": "code",
   "execution_count": 19,
   "metadata": {},
   "outputs": [
    {
     "name": "stdout",
     "output_type": "stream",
     "text": [
      "\n",
      "Antal beskeder efter rensning: 5572\n",
      "\n",
      "Fordeling af spam/ham:\n",
      "label\n",
      "ham     4825\n",
      "spam     747\n",
      "Name: count, dtype: int64\n"
     ]
    }
   ],
   "source": [
    "print(f\"\\nAntal beskeder efter rensning: {len(df)}\")\n",
    "print(f\"\\nFordeling af spam/ham:\")\n",
    "print(df['label'].value_counts())"
   ]
  },
  {
   "cell_type": "code",
   "execution_count": 6,
   "metadata": {},
   "outputs": [
    {
     "name": "stdout",
     "output_type": "stream",
     "text": [
      "Collecting en-core-web-lg==3.8.0\n",
      "  Using cached https://github.com/explosion/spacy-models/releases/download/en_core_web_lg-3.8.0/en_core_web_lg-3.8.0-py3-none-any.whl (400.7 MB)\n",
      "Installing collected packages: en-core-web-lg\n",
      "Successfully installed en-core-web-lg-3.8.0\n",
      "\u001b[38;5;2m✔ Download and installation successful\u001b[0m\n",
      "You can now load the package via spacy.load('en_core_web_lg')\n"
     ]
    }
   ],
   "source": [
    "#!python -m spacy download en_core_web_lg"
   ]
  },
  {
   "cell_type": "code",
   "execution_count": 20,
   "metadata": {},
   "outputs": [
    {
     "data": {
      "text/plain": [
       "<asent.component.Asent at 0x1672fa300>"
      ]
     },
     "execution_count": null,
     "metadata": {},
     "output_type": "execute_result"
    }
   ],
   "source": [
    "# Skal have installeret: python -m spacy download en_core_web_lg\n",
    "nlp = spacy.load('en_core_web_lg')\n",
    "nlp.add_pipe('asent_en_v1')  # Engelsk sentiment model"
   ]
  },
  {
   "cell_type": "markdown",
   "metadata": {},
   "source": [
    "## Vores egen funktion til at undersøge sentiment i hele corpus"
   ]
  },
  {
   "cell_type": "code",
   "execution_count": 21,
   "metadata": {},
   "outputs": [],
   "source": [
    "def analyser_sentiment(text):\n",
    "    \"\"\"Analyserer sentiment for en enkelt besked\"\"\"\n",
    "    try:\n",
    "        doc = nlp(text)\n",
    "        \n",
    "        # Saml sentiment fra alle sætninger\n",
    "        sentiments = []\n",
    "        for sent in doc.sents:\n",
    "            if sent._.polarity:\n",
    "                sentiments.append(sent._.polarity)\n",
    "        \n",
    "        if not sentiments:\n",
    "            return None\n",
    "        \n",
    "        # Beregn gennemsnit\n",
    "        avg_compound = np.mean([s.compound for s in sentiments])\n",
    "        avg_pos = np.mean([s.pos for s in sentiments])\n",
    "        avg_neg = np.mean([s.neg for s in sentiments])\n",
    "        avg_neu = np.mean([s.neu for s in sentiments])\n",
    "        \n",
    "        return {\n",
    "            'compound': avg_compound,\n",
    "            'positive': avg_pos,\n",
    "            'negative': avg_neg,\n",
    "            'neutral': avg_neu\n",
    "        }\n",
    "    except:\n",
    "        return None"
   ]
  },
  {
   "cell_type": "markdown",
   "metadata": {},
   "source": [
    "## Brug funktionen på vores spam-tekster\n",
    "\n",
    "Tager nogle minutter at kører ..."
   ]
  },
  {
   "cell_type": "code",
   "execution_count": 10,
   "metadata": {},
   "outputs": [
    {
     "name": "stdout",
     "output_type": "stream",
     "text": [
      "Behandlet 0/500 beskeder...\n",
      "Behandlet 100/500 beskeder...\n"
     ]
    }
   ],
   "source": [
    "df_sample = df[:500].copy()  # Fjern [:500] for at analysere alle 5572 beskeder\n",
    "\n",
    "sentiments = []\n",
    "for idx, row in df_sample.iterrows():\n",
    "    if idx % 100 == 0:\n",
    "        print(f\"Har behandlet {idx}/{len(df_sample)} beskeder...\")\n",
    "    \n",
    "    sentiment = analyser_sentiment(row['message'])\n",
    "    if sentiment:\n",
    "        sentiments.append(sentiment)\n",
    "    else:\n",
    "        sentiments.append({\n",
    "            'compound': 0,\n",
    "            'positive': 0,\n",
    "            'negative': 0,\n",
    "            'neutral': 1\n",
    "        })\n",
    "\n",
    "# Tilføj sentiment til dataframe\n",
    "df_sample['compound'] = [s['compound'] for s in sentiments]\n",
    "df_sample['positive'] = [s['positive'] for s in sentiments]\n",
    "df_sample['negative'] = [s['negative'] for s in sentiments]\n",
    "df_sample['neutral'] = [s['neutral'] for s in sentiments]\n",
    "\n",
    "# Kategorisér sentiment\n",
    "df_sample['sentiment'] = df_sample['compound'].apply(\n",
    "    lambda x: 'Positiv' if x >= 0.2 else 'Negativ' if x <= -0.2 else 'Neutral'\n",
    ")"
   ]
  },
  {
   "cell_type": "markdown",
   "metadata": {},
   "source": [
    "## Analyse resultater"
   ]
  },
  {
   "cell_type": "markdown",
   "metadata": {},
   "source": [
    "### I hele corpus"
   ]
  },
  {
   "cell_type": "code",
   "execution_count": null,
   "metadata": {},
   "outputs": [],
   "source": [
    "print(f\"\\nGennemsnitlig sentiment: {df_sample['compound'].mean():.3f}\")\n",
    "print(f\"Median sentiment: {df_sample['compound'].median():.3f}\")\n",
    "print(f\"Standardafvigelse: {df_sample['compound'].std():.3f}\")\n",
    "\n",
    "print(\"\\nSentiment fordeling:\")\n",
    "print(df_sample['sentiment'].value_counts())"
   ]
  },
  {
   "cell_type": "markdown",
   "metadata": {},
   "source": [
    "### Sammenligning af kategorier/grupper"
   ]
  },
  {
   "cell_type": "code",
   "execution_count": null,
   "metadata": {},
   "outputs": [],
   "source": [
    "print(\"\\nGennemsnitlig sentiment per type:\")\n",
    "sentiment_by_label = df_sample.groupby('label')['compound'].agg(['mean', 'median', 'std', 'count'])\n",
    "print(sentiment_by_label)\n",
    "\n",
    "print(\"\\nSentiment fordeling for SPAM:\")\n",
    "print(df_sample[df_sample['label'] == 'spam']['sentiment'].value_counts())\n",
    "\n",
    "print(\"\\nSentiment fordeling for HAM:\")\n",
    "print(df_sample[df_sample['label'] == 'ham']['sentiment'].value_counts())"
   ]
  },
  {
   "cell_type": "markdown",
   "metadata": {},
   "source": [
    "### Visualiseringer"
   ]
  },
  {
   "cell_type": "code",
   "execution_count": null,
   "metadata": {},
   "outputs": [],
   "source": [
    "# Histogram for compound scores\n",
    "axes[0, 0].hist(df_sample[df_sample['label'] == 'spam']['compound'], \n",
    "                bins=30, alpha=0.6, label='Spam', color='red', edgecolor='black')\n",
    "axes[0, 0].hist(df_sample[df_sample['label'] == 'ham']['compound'], \n",
    "                bins=30, alpha=0.6, label='Ham', color='green', edgecolor='black')\n",
    "axes[0, 0].axvline(x=0, color='black', linestyle='--', linewidth=2)\n",
    "axes[0, 0].set_xlabel('Sentiment Score')\n",
    "axes[0, 0].set_ylabel('Antal')\n",
    "axes[0, 0].set_title('Fordeling af Sentiment Scores')\n",
    "axes[0, 0].legend()\n",
    "axes[0, 0].grid(axis='y', alpha=0.3)"
   ]
  },
  {
   "cell_type": "code",
   "execution_count": null,
   "metadata": {},
   "outputs": [],
   "source": [
    "# Box plot sammenligning af grupper\n",
    "df_sample.boxplot(column='compound', by='label', ax=axes[0, 1])\n",
    "axes[0, 1].set_title('Sentiment: Spam vs Ham')\n",
    "axes[0, 1].set_xlabel('Type')\n",
    "axes[0, 1].set_ylabel('Sentiment Score')\n",
    "plt.sca(axes[0, 1])\n",
    "plt.xticks([1, 2], ['Ham', 'Spam'])"
   ]
  },
  {
   "cell_type": "code",
   "execution_count": null,
   "metadata": {},
   "outputs": [],
   "source": [
    "# Sentiment kategorier per gruppe\n",
    "sentiment_crosstab = pd.crosstab(df_sample['label'], df_sample['sentiment'], normalize='index') * 100\n",
    "sentiment_crosstab.plot(kind='bar', ax=axes[0, 2], color=['#e74c3c', '#95a5a6', '#2ecc71'])\n",
    "axes[0, 2].set_title('Sentiment Fordeling (%)')\n",
    "axes[0, 2].set_xlabel('Type')\n",
    "axes[0, 2].set_ylabel('Procent')\n",
    "axes[0, 2].legend(title='Sentiment')\n",
    "axes[0, 2].grid(axis='y', alpha=0.3)\n",
    "plt.sca(axes[0, 2])\n",
    "plt.xticks(rotation=0)"
   ]
  },
  {
   "cell_type": "code",
   "execution_count": null,
   "metadata": {},
   "outputs": [],
   "source": [
    "# Gennemsnitlige sentiment komponenter\n",
    "komponenter = df_sample.groupby('label')[['positive', 'negative', 'neutral']].mean()\n",
    "komponenter.plot(kind='bar', ax=axes[1, 0], color=['#2ecc71', '#e74c3c', '#95a5a6'])\n",
    "axes[1, 0].set_title('Gennemsnitlige Sentiment Komponenter')\n",
    "axes[1, 0].set_xlabel('Type')\n",
    "axes[1, 0].set_ylabel('Score')\n",
    "axes[1, 0].legend(['Positiv', 'Negativ', 'Neutral'])\n",
    "axes[1, 0].grid(axis='y', alpha=0.3)\n",
    "plt.sca(axes[1, 0])\n",
    "plt.xticks(rotation=0)"
   ]
  },
  {
   "cell_type": "code",
   "execution_count": null,
   "metadata": {},
   "outputs": [],
   "source": [
    "# Scatter plot: Positive vs Negative\n",
    "spam_data = df_sample[df_sample['label'] == 'spam']\n",
    "ham_data = df_sample[df_sample['label'] == 'ham']\n",
    "axes[1, 1].scatter(spam_data['positive'], spam_data['negative'], \n",
    "                   alpha=0.5, label='Spam', color='red', s=30)\n",
    "axes[1, 1].scatter(ham_data['positive'], ham_data['negative'], \n",
    "                   alpha=0.5, label='Ham', color='green', s=30)\n",
    "axes[1, 1].set_xlabel('Positive Score')\n",
    "axes[1, 1].set_ylabel('Negative Score')\n",
    "axes[1, 1].set_title('Positiv vs Negativ Komponent')\n",
    "axes[1, 1].legend()\n",
    "axes[1, 1].grid(True, alpha=0.3)"
   ]
  },
  {
   "cell_type": "markdown",
   "metadata": {},
   "source": [
    "## Detaljeret analyse af enkelt tekst"
   ]
  },
  {
   "cell_type": "code",
   "execution_count": null,
   "metadata": {},
   "outputs": [],
   "source": [
    "print(\"\\n--- TOP 3 MEST POSITIVE BESKEDER ---\")\n",
    "top_positive = df_sample.nlargest(3, 'compound')\n",
    "for idx, row in top_positive.iterrows():\n",
    "    print(f\"\\nType: {row['label'].upper()} | Score: {row['compound']:.3f}\")\n",
    "    print(f\"Besked: {row['message'][:150]}...\")\n",
    "\n",
    "print(\"\\n--- TOP 3 MEST NEGATIVE BESKEDER ---\")\n",
    "top_negative = df_sample.nsmallest(3, 'compound')\n",
    "for idx, row in top_negative.iterrows():\n",
    "    print(f\"\\nType: {row['label'].upper()} | Score: {row['compound']:.3f}\")\n",
    "    print(f\"Besked: {row['message'][:150]}...\")"
   ]
  },
  {
   "cell_type": "code",
   "execution_count": null,
   "metadata": {},
   "outputs": [],
   "source": [
    "# Tag den mest positive spam besked\n",
    "most_pos_spam = df_sample[df_sample['label'] == 'spam'].nlargest(1, 'compound').iloc[0]\n",
    "print(f\"\\nMest positive SPAM besked:\")\n",
    "print(f\"Score: {most_pos_spam['compound']:.3f}\")\n",
    "print(f\"Besked: {most_pos_spam['message']}\")\n",
    "\n",
    "doc = nlp(most_pos_spam['message'])\n",
    "print(\"\\nOrd-niveau analyse:\")\n",
    "for token in doc:\n",
    "    if token._.polarity and token._.polarity != 0:\n",
    "        print(f\"  {token.text:20} - Polarity: {token._.polarity}\")\n",
    "\n",
    "display(HTML(asent.visualize(doc, style=\"prediction\")))"
   ]
  }
 ],
 "metadata": {
  "kernelspec": {
   "display_name": "Python 3 ",
   "language": "python",
   "name": "python3"
  },
  "language_info": {
   "codemirror_mode": {
    "name": "ipython",
    "version": 3
   },
   "file_extension": ".py",
   "mimetype": "text/x-python",
   "name": "python",
   "nbconvert_exporter": "python",
   "pygments_lexer": "ipython3",
   "version": "3.10.12"
  },
  "vscode": {
   "interpreter": {
    "hash": "767d51c1340bd893661ea55ea3124f6de3c7a262a8b4abca0554b478b1e2ff90"
   }
  }
 },
 "nbformat": 4,
 "nbformat_minor": 4
}
